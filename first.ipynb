{
 "cells": [
  {
   "cell_type": "code",
   "execution_count": 3,
   "id": "3dba084f",
   "metadata": {},
   "outputs": [],
   "source": [
    "model = {\"AA\" : 0.18, \"AC\" : 0.274, \"AG\" : 0.426, \"AT\" : 0.12, \n",
    "         \"CA\" : 0.171, \"CC\" : 0.368, \"CG\" : 0.274, \"CT\" : 0.188, \n",
    "         \"GA\" : 0.161, \"GC\" : 0.339, \"GG\" : 0.375, \"GT\" : 0.125, \n",
    "         \"TA\" : 0.079, \"TC\": 0.355, \"TG\" : 0.384, \"TT\" : 0.182}\n",
    "non_model = {\"AA\" : 0.3, \"AC\" : 0.205, \"AG\" : 0.285, \"AT\" : 0.21, \n",
    "         \"CA\" : 0.322, \"CC\" : 0.298, \"CG\" : 0.078, \"CT\" : 0.302, \n",
    "         \"GA\" : 0.248, \"GC\" : 0.246, \"GG\" : 0.298, \"GT\" : 0.208, \n",
    "         \"TA\" : 0.177, \"TC\" : 0.239, \"TG\" : 0.292, \"TT\" : 0.292}"
   ]
  },
  {
   "cell_type": "code",
   "execution_count": 4,
   "id": "39eb053c",
   "metadata": {},
   "outputs": [],
   "source": [
    "a = \"\".join(open(\"generated_sequence.fa\", 'r').readlines()[1:]).replace(\"\\n\", \"\")"
   ]
  },
  {
   "cell_type": "code",
   "execution_count": 5,
   "id": "cae53920",
   "metadata": {},
   "outputs": [],
   "source": [
    "import math as m\n",
    "d = {}\n",
    "for i in model:\n",
    "    d[i] = m.log(model[i]/non_model[i], 2)\n",
    "#d - матрица для каждой пары перехода, который заменяется умножение суммой в последующем коде марковской цепи"
   ]
  },
  {
   "cell_type": "code",
   "execution_count": 66,
   "id": "74cb40ca",
   "metadata": {},
   "outputs": [],
   "source": [
    "#далее для каждого отрезка в 300 нуклеотидов находится вероятность его \n",
    "import matplotlib.pyplot as plt\n",
    "x = []\n",
    "y = []\n",
    "#print(a)\n",
    "for i in range(1, 14700):\n",
    "    pl = 1\n",
    "   ##     print(i)\n",
    "    for j in range(i+1 , i+300):\n",
    "        pl += d[a[j-1] + a[j]]\n",
    "    x.append(i)\n",
    "    y.append(pl)"
   ]
  },
  {
   "cell_type": "code",
   "execution_count": 67,
   "id": "ff6dd737",
   "metadata": {},
   "outputs": [
    {
     "data": {
      "image/png": "[encoded data removed]",
      "text/plain": [
       "<Figure size 432x288 with 1 Axes>"
      ]
     },
     "metadata": {
      "needs_background": "light"
     },
     "output_type": "display_data"
    }
   ],
   "source": [
    "plt.plot(x, y)\n",
    "plt.show()\n",
    "#построен график вероятности относительно прошлого кода \n",
    "#на котором заметны 3 пика, необходимо найти три локальных максимума данных "
   ]
  },
  {
   "cell_type": "code",
   "execution_count": 68,
   "id": "e364445f",
   "metadata": {},
   "outputs": [],
   "source": [
    "import numpy as np\n",
    "from scipy.signal import argrelextrema\n",
    "\n",
    "#argrelextrema(x, np.greater)\n",
    "#print(ans)"
   ]
  },
  {
   "cell_type": "code",
   "execution_count": 69,
   "id": "b6e82883",
   "metadata": {},
   "outputs": [
    {
     "data": {
      "text/plain": [
       "tuple"
      ]
     },
     "execution_count": 69,
     "metadata": {},
     "output_type": "execute_result"
    }
   ],
   "source": [
    "type(argrelextrema(np.array(y), np.greater))"
   ]
  },
  {
   "cell_type": "code",
   "execution_count": 73,
   "id": "ab3ecf8c",
   "metadata": {},
   "outputs": [
    {
     "name": "stdout",
     "output_type": "stream",
     "text": [
      "42.69250607020091 457\n",
      "43.01523584643194 467\n",
      "45.4306849788897 470\n",
      "46.885420428077005 473\n",
      "45.97232218786707 477\n",
      "46.12731707600286 479\n",
      "47.11929718695745 481\n",
      "48.15420466363048 485\n",
      "45.63617828967958 489\n",
      "46.616366865992156 493\n",
      "47.246744998519446 501\n",
      "47.277772547752704 505\n",
      "47.77522513033769 517\n",
      "47.84271414629366 519\n",
      "47.748040301011464 523\n",
      "46.25406287989916 528\n",
      "45.14900714148072 532\n",
      "46.51934476806222 1895\n",
      "50.03635126399113 1902\n",
      "49.90849712370767 1905\n",
      "48.61878582249245 1911\n",
      "61.40307711497198 1926\n",
      "63.11129482167401 1929\n",
      "63.90473763445757 1932\n",
      "64.03952767727824 1934\n",
      "64.04551052880083 1940\n",
      "65.2555111232181 1943\n",
      "65.33393430129645 1946\n",
      "64.23374105584953 1950\n",
      "62.8837381495484 1952\n",
      "65.78539394882465 1957\n",
      "64.74634507975085 1959\n",
      "65.02184315532969 1961\n",
      "64.25566561086872 1966\n",
      "63.057303857933704 1968\n",
      "62.93897529614618 1970\n",
      "64.96920650339815 1973\n",
      "64.9183669575666 1975\n",
      "64.5368620590291 1978\n",
      "64.47632560365392 1980\n",
      "63.246442216847974 1983\n",
      "64.30829345670132 1987\n",
      "64.30829345670129 1989\n",
      "62.43507765630745 1992\n",
      "61.6314162088168 1997\n",
      "58.150677646976554 2001\n",
      "53.928574234676496 2007\n",
      "51.440132226034336 2011\n",
      "52.32924320542487 2015\n",
      "47.29343886751042 2020\n",
      "47.264817545574914 2025\n",
      "46.36634337116748 2028\n",
      "46.928992813300944 2035\n",
      "44.697215508548894 2040\n",
      "43.482496174904895 2042\n",
      "42.20065179105529 2049\n",
      "48.64463499403365 6922\n",
      "51.38245425733938 6927\n",
      "50.54199578289767 6930\n",
      "49.041486143772204 6935\n",
      "48.891710100844755 6939\n",
      "51.2630842589605 6942\n",
      "51.24913525679098 6945\n",
      "52.25454774345057 6947\n",
      "51.90237063364812 6950\n",
      "52.2384051646022 6952\n",
      "53.383062041080635 6956\n",
      "58.90525630601156 6963\n",
      "62.53656922216604 6970\n",
      "63.88970590453142 6974\n",
      "65.28846210415145 6978\n",
      "63.85506387079896 6982\n",
      "63.69372434308031 6984\n",
      "63.469065813333 6986\n",
      "64.8118486155328 6989\n",
      "66.06290097165932 6991\n",
      "65.21756821831279 6997\n",
      "66.16941107545898 6999\n",
      "65.22181133372933 7002\n",
      "66.57779133927654 7004\n",
      "64.39019528915865 7007\n",
      "64.34570038290995 7009\n",
      "62.49113964022816 7012\n",
      "59.35028465529906 7019\n",
      "60.66999672675756 7024\n",
      "59.239578982565305 7028\n",
      "56.81020375181912 7032\n",
      "56.75649887536257 7035\n",
      "52.50504371130625 7040\n",
      "47.99702364681016 7045\n",
      "45.20134786528585 7048\n"
     ]
    }
   ],
   "source": [
    "for i in list(argrelextrema(np.array(y), np.greater))[0]:\n",
    "    if y[i] > 42:\n",
    "        print(y[i], i)"
   ]
  },
  {
   "cell_type": "code",
   "execution_count": 71,
   "id": "ee1ee357",
   "metadata": {},
   "outputs": [
    {
     "data": {
      "text/plain": [
       "(array([    1,     7,    14, ..., 14658, 14661, 14663], dtype=int64),)"
      ]
     },
     "execution_count": 71,
     "metadata": {},
     "output_type": "execute_result"
    }
   ],
   "source": [
    "#получается 3 локальных максимума\n",
    "ans = [485, 1961, 7004]"
   ]
  },
  {
   "cell_type": "code",
   "execution_count": null,
   "id": "ba76dc30",
   "metadata": {},
   "outputs": [],
   "source": []
  }
 ],
 "metadata": {
  "kernelspec": {
   "display_name": "Python 3",
   "language": "python",
   "name": "python3"
  },
  "language_info": {
   "codemirror_mode": {
    "name": "ipython",
    "version": 3
   },
   "file_extension": ".py",
   "mimetype": "text/x-python",
   "name": "python",
   "nbconvert_exporter": "python",
   "pygments_lexer": "ipython3",
   "version": "3.9.4"
  }
 },
 "nbformat": 4,
 "nbformat_minor": 5
}
